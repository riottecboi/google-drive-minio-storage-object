{
 "cells": [
  {
   "cell_type": "code",
   "execution_count": null,
   "id": "initial_id",
   "metadata": {
    "collapsed": true
   },
   "outputs": [],
   "source": [
    "python3.11 -m pip install -r requirements.txt"
   ]
  },
  {
   "cell_type": "code",
   "outputs": [],
   "source": [
    "import os\n",
    "import boto3\n",
    "import time\n",
    "import shutil\n",
    "from selenium import webdriver\n",
    "from selenium.webdriver.common.by import By\n",
    "from selenium.webdriver.common.action_chains import ActionChains\n",
    "from webdriver_manager.chrome import ChromeDriverManager"
   ],
   "metadata": {
    "collapsed": false
   },
   "id": "24e577f6a1ba0925"
  },
  {
   "cell_type": "code",
   "outputs": [],
   "source": [
    "class FILE_DOWNLOAD():\n",
    "    def __init__(self):\n",
    "        self.files_upload =['data.json','data2.json','data3.json']\n",
    "        self.download_directory = \"/tmp/\"\n",
    "        self.filename = 'data.zip'\n",
    "        self.minio_bucket = \"data\"\n",
    "        self.minio_object = \"data-raw\"\n",
    "        self.obj_storage_access_key = os.getenv('OBJ_STORAGE_ACCESS_KEY', 'access-key')\n",
    "        self.obj_storage_secret_key = os.getenv('OBJ_STORAGE_SECRET_KEY', 'secret-key')\n",
    "        self.obj_storage_endpoint = os.getenv('OBJ_STORAGE_ENDPOINT', 'http://localhost:9000')\n",
    "\n",
    "    def crawler(self):\n",
    "        # Specify the URL\n",
    "        url = \"https://drive.google.com/drive/folders/1EImvKyUQ_iJCfd2h-Dxjn_sqPyDV5tFC?usp=sharing\"\n",
    "\n",
    "        # Initialize Chrome WebDriver\n",
    "        options = webdriver.ChromeOptions()\n",
    "        options.add_experimental_option(\"prefs\", {\n",
    "                \"download.default_directory\": self.download_directory,\n",
    "                \"download.prompt_for_download\": False,\n",
    "                \"download.directory_upgrade\": True,\n",
    "                \"safebrowsing.enabled\": True\n",
    "            })\n",
    "\n",
    "        driver = webdriver.Chrome(ChromeDriverManager().install(), options=options)\n",
    "\n",
    "        for tries in range (0,3):\n",
    "            # Open the URL\n",
    "            driver.get(url)\n",
    "\n",
    "            # Locate the file you want to download by XPath or CSS selector\n",
    "            file_locator = \"/html/body/div[3]/div/div[3]/div[2]/div[1]/div/c-wiz/div/c-wiz/div[1]/c-wiz/div[2]/c-wiz/div[1]/c-wiz/c-wiz/div/c-wiz/div/div/div/div[6]/div\"\n",
    "            file_element = driver.find_element(By.XPATH, file_locator)\n",
    "\n",
    "            # Move the mouse to the file location\n",
    "            action_chains = ActionChains(driver)\n",
    "            action_chains.move_to_element(file_element).perform()\n",
    "\n",
    "            # Right-click on the file to trigger download\n",
    "            action_chains.click(file_element).perform()\n",
    "\n",
    "            print('Downloading ...')\n",
    "\n",
    "            # Wait for the file to download\n",
    "            time.sleep(10)  # You might need to adjust this depending on the file size and network speed\n",
    "\n",
    "            # Call to verify function to check file is download or not. If not, retrying to download again\n",
    "            verify_success = self.file_download_verify()\n",
    "            if verify_success:\n",
    "                break\n",
    "            else:\n",
    "                print('Trying again {} time(s)'.format(tries))\n",
    "        # Close the browser\n",
    "        driver.quit()\n",
    "\n",
    "    def file_download_verify(self):\n",
    "        success = False\n",
    "        # List a directory to check the exists of the file\n",
    "        res = os.listdir(self.download_directory)\n",
    "        try:\n",
    "           if self.filename in res:\n",
    "              print(\"File downloaded successfully\")\n",
    "              success = True\n",
    "           else:\n",
    "               print(\"File not download\")\n",
    "        except \"file is not downloaded\":\n",
    "           print(\"file not download\")\n",
    "        return success"
   ],
   "metadata": {
    "collapsed": false
   },
   "id": "1bc15b41dae46144"
  },
  {
   "cell_type": "code",
   "outputs": [],
   "source": [
    "    def upload_file_to_minio(self,file_path, minio_bucket, minio_object_name):\n",
    "        # Object initialized\n",
    "        s3c = boto3.resource('s3',\n",
    "                            endpoint_url=self.obj_storage_endpoint,\n",
    "                            aws_access_key_id=self.obj_storage_access_key,\n",
    "                            aws_secret_access_key=self.obj_storage_secret_key,\n",
    "                            config=boto3.session.Config(signature_version='s3v4'),\n",
    "                            verify=False\n",
    "                            )\n",
    "        s3c.Bucket(minio_bucket).upload_file(file_path, minio_object_name)\n"
   ],
   "metadata": {
    "collapsed": false
   },
   "id": "6a3fa34d8c8dfe56"
  },
  {
   "cell_type": "code",
   "outputs": [],
   "source": [
    "    def main(self):\n",
    "        # Run a crawler function\n",
    "        self.crawler()\n",
    "        # Unzip the file\n",
    "        shutil.unpack_archive(f\"{self.download_directory}/{self.filename}\", self.download_directory)\n",
    "        # Looping to upload file\n",
    "        for file in self.files_upload:\n",
    "            print('Uploading file {}...'.format(file))\n",
    "            self.upload_file_to_minio(f\"{self.download_directory}/{file}\", self.minio_bucket, f\"{self.minio_object}/{file}\")\n",
    "            print('Uploaded')"
   ],
   "metadata": {
    "collapsed": false
   },
   "id": "63c654018b7bdb9d"
  },
  {
   "cell_type": "code",
   "outputs": [],
   "source": [
    "if __name__ == '__main__':#\n",
    "    file_download = FILE_DOWNLOAD()\n",
    "    downloading = file_download.main()\n",
    "    print('Finished downloading')"
   ],
   "metadata": {
    "collapsed": false
   },
   "id": "60b8ff683e491eeb"
  }
 ],
 "metadata": {
  "kernelspec": {
   "display_name": "Python 3",
   "language": "python",
   "name": "python3"
  },
  "language_info": {
   "codemirror_mode": {
    "name": "ipython",
    "version": 2
   },
   "file_extension": ".py",
   "mimetype": "text/x-python",
   "name": "python",
   "nbconvert_exporter": "python",
   "pygments_lexer": "ipython2",
   "version": "2.7.6"
  }
 },
 "nbformat": 4,
 "nbformat_minor": 5
}
